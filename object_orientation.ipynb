{
 "metadata": {
  "language_info": {
   "codemirror_mode": {
    "name": "ipython",
    "version": 3
   },
   "file_extension": ".py",
   "mimetype": "text/x-python",
   "name": "python",
   "nbconvert_exporter": "python",
   "pygments_lexer": "ipython3",
   "version": "3.6.9"
  },
  "orig_nbformat": 2,
  "kernelspec": {
   "name": "python369jvsc74a57bd031f2aee4e71d21fbe5cf8b01ff0e069b9275f58929596ceb00d14d90e3e16cd6",
   "display_name": "Python 3.6.9 64-bit"
  },
  "metadata": {
   "interpreter": {
    "hash": "31f2aee4e71d21fbe5cf8b01ff0e069b9275f58929596ceb00d14d90e3e16cd6"
   }
  }
 },
 "nbformat": 4,
 "nbformat_minor": 2,
 "cells": [
  {
   "source": [
    "# Introduction to Machine Learning Pre-class assignment 3 Utilization of Object Orientation\n",
    "## Name: Nguyen Anh Hoang Phuc"
   ],
   "cell_type": "markdown",
   "metadata": {}
  },
  {
   "source": [
    "## Problem 1"
   ],
   "cell_type": "markdown",
   "metadata": {}
  },
  {
   "source": [
    "## Problem 1: Enumeration of classes used so far\n",
    "Now, you know that you must instantiate a class when you use it, and you know how to name a class. Based on this information, please answer what classes you have seen in the code you have used in previous assignments.\n",
    "\n",
    "\n",
    "Find one or more each from Pandas, matplotlib, and scikit-learn.\n",
    "### Method\n",
    "\n",
    "After instantiation, you can execute methods such as scaler.fit(X). The fit method of StandardScaler has the ability to calculate the mean and standard deviation which will be used later for scaling.​\n",
    "\n",
    "### Instance variable (attribute)\n",
    "\n",
    "Thefit method has computed the mean and standard deviation, but there is no apparent change. However, inside the scaler instance, the calculation results are stored. These instances that store values are called instance variables or attributes. Here, the mean is stored inscaler.mean_and the variance, which is the squared value of the standard deviation, is storedscaler.var_.\n",
    "\n",
    "\n",
    "The following print statement can be used to output the data.\n",
    "\n",
    "```python\n",
    "print(\"平均 : {}\".format(scaler.mean_)) # 平均 : [4.86 3.31 1.45 0.22]\n",
    "print(\"分散 : {}\".format(scaler.var_)) # 分散 : [0.0764 0.0849 0.0105 0.0056]\n",
    "```\n",
    "### Method and instance variable naming method\n",
    "As with functions, methods and instance variables are named in all lowercase letters. Put an underscore when connecting words"
   ],
   "cell_type": "markdown",
   "metadata": {}
  },
  {
   "cell_type": "code",
   "execution_count": 1,
   "metadata": {},
   "outputs": [
    {
     "output_type": "stream",
     "name": "stdout",
     "text": [
      "mean : [4.86 3.31 1.45 0.22]\nvariance : [0.0764 0.0849 0.0105 0.0056]\n"
     ]
    }
   ],
   "source": [
    "import numpy as np\n",
    "from sklearn.preprocessing import StandardScaler\n",
    "from sklearn.datasets import load_iris\n",
    "data = load_iris()\n",
    "X = data.data[:10]\n",
    "scaler = StandardScaler()\n",
    "scaler.fit(X)\n",
    "print(\"mean :\", scaler.mean_)\n",
    "print(\"variance :\", scaler.var_)\n",
    "X_std = scaler.transform(X)"
   ]
  },
  {
   "source": [
    "### Pandas:\n",
    "<li> DataFrame"
   ],
   "cell_type": "markdown",
   "metadata": {}
  },
  {
   "source": [
    "### matplotlib\n",
    "\n",
    "<li> pyplot"
   ],
   "cell_type": "markdown",
   "metadata": {}
  },
  {
   "source": [
    "### scikit-learn\n",
    "\n",
    "<li> LinearRegression()\n",
    "<li> StandardScaler\n",
    "<li> DecisionTreeRegressor\n",
    "<li> RandomForestRegressor\n",
    "<li> SVR"
   ],
   "cell_type": "markdown",
   "metadata": {}
  },
  {
   "source": [
    "## Problem 2"
   ],
   "cell_type": "markdown",
   "metadata": {}
  },
  {
   "source": [
    "Please explain what kind of method and instance variable were used in the code that you have used in the previous assignments.\n",
    "\n",
    "\n",
    "Please answer at least 5 of each.\n",
    "\n",
    "\n",
    "**《Ndarray and str are also instances》**\n",
    "\n",
    "\n",
    "When it comes to dotting, you have probably usedndarray.shapeandndarray.sum() for NumPy's ndarray many times. This means that ndarray is also an instance object,shapeis an instance variable, and sumis a method.\n",
    "\n",
    "\n",
    "Any data that appears in Python code is an instance object, and list and str also have methods.\n"
   ],
   "cell_type": "markdown",
   "metadata": {}
  },
  {
   "source": [
    "**The kinds of method and instance variable in the code used in the previous exercises are:**\n",
    "\n",
    "**Methods**\n",
    "\n",
    "1. pandas.loc()\n",
    "2. pandas.iloc()\n",
    "3. numpy.sum()\n",
    "4. numpy.reshape()\n",
    "5. numpy.ravel()\n",
    "\n",
    "**Instance variable**\n",
    "\n",
    "1. ndarray.shape\n",
    "2. ndarray.ndim\n",
    "3. ndarray.dtype\n",
    "4. ndarray.size\n",
    "5. ndarray.data"
   ],
   "cell_type": "markdown",
   "metadata": {}
  },
  {
   "source": [
    "## Problem 3"
   ],
   "cell_type": "markdown",
   "metadata": {}
  },
  {
   "cell_type": "code",
   "execution_count": 2,
   "metadata": {},
   "outputs": [],
   "source": [
    "class ScratchStandardScaler():\n",
    "    \"\"\"\n",
    "    標準化のためのクラス\n",
    "    Attributes\n",
    "    ----------\n",
    "    mean_ : 次の形のndarray, shape(n_features,)\n",
    "        平均\n",
    "    var_ : 次の形のndarray, shape(n_features,)\n",
    "        分散\n",
    "    \"\"\"\n",
    "    def fit(self, X):\n",
    "        \"\"\"\n",
    "        標準化のために平均と標準偏差を計算する。\n",
    "        Parameters\n",
    "        ----------\n",
    "        X : 次の形のndarray, shape (n_samples, n_features)\n",
    "            訓練データ\n",
    "        \"\"\"\n",
    "        self.mean_ = np.mean(X,axis=0)\n",
    "        self.var_ = np.var(X,axis=0)\n",
    "        \n",
    "    def transform(self, X):\n",
    "        \"\"\"\n",
    "        fitで求めた値を使い標準化を行う。\n",
    "        Parameters\n",
    "        ----------\n",
    "        X : 次の形のndarray, shape (n_samples, n_features)\n",
    "            Feature value\n",
    "        Returns\n",
    "        ----------\n",
    "        X_scaled : 次の形のndarray, shape (n_samples, n_features)\n",
    "            標準化された特緒量\n",
    "        \"\"\"\n",
    "        X_scaled = (X-self.mean_)/self.var_\n",
    "        return X_scaled"
   ]
  },
  {
   "cell_type": "code",
   "execution_count": 3,
   "metadata": {},
   "outputs": [
    {
     "output_type": "stream",
     "name": "stdout",
     "text": [
      "Average : [4.86 3.31 1.45 0.22]\nDispersed : [0.0764 0.0849 0.0105 0.0056]\n[[  3.14136126   2.23792697  -4.76190476  -3.57142857]\n [  0.52356021  -3.65135453  -4.76190476  -3.57142857]\n [ -2.09424084  -1.29564193 -14.28571429  -3.57142857]\n [ -3.40314136  -2.47349823   4.76190476  -3.57142857]\n [  1.83246073   3.41578327  -4.76190476  -3.57142857]\n [  7.06806283   6.94935218  23.80952381  32.14285714]\n [ -3.40314136   1.06007067  -4.76190476  14.28571429]\n [  1.83246073   1.06007067   4.76190476  -3.57142857]\n [ -6.02094241  -4.82921084  -4.76190476  -3.57142857]\n [  0.52356021  -2.47349823   4.76190476 -21.42857143]]\n"
     ]
    }
   ],
   "source": [
    "from sklearn.datasets import load_iris\n",
    "data = load_iris()\n",
    "X = data.data[:10]\n",
    "scratch_scaler = ScratchStandardScaler()\n",
    "scratch_scaler.fit(X)\n",
    "print(\"Average : {}\".format(scratch_scaler.mean_))\n",
    "print(\"Dispersed : {}\".format(scratch_scaler.var_))\n",
    "X_std= scratch_scaler.transform(X)\n",
    "print(X_std)"
   ]
  },
  {
   "source": [
    "## Problem 4"
   ],
   "cell_type": "markdown",
   "metadata": {}
  },
  {
   "cell_type": "code",
   "execution_count": 4,
   "metadata": {},
   "outputs": [
    {
     "output_type": "stream",
     "name": "stdout",
     "text": [
      "Initial value 5 set\nvalue : 5\naddition value : 8\nPlease input only numbers\nPlease input only numbers\nsubtraction value : can not be calculated because one of the values is not a number\nmultiplication value : 24\nPlease input only numbers\ndivision value : can not be calculated because one of the values is not a number\n"
     ]
    }
   ],
   "source": [
    "def type_judge(value_to_judge):\n",
    "    if not isinstance(value_to_judge, (int,float)):\n",
    "        print(\"Please input only numbers\")\n",
    "        return False\n",
    "    else:\n",
    "        return True\n",
    "\n",
    "class ArthClass():\n",
    "        \n",
    "    def __init__(self, value):\n",
    "        if(type_judge(value)):\n",
    "            self.value = value\n",
    "            print(\"Initial value {} set\".format(self.value))\n",
    "        else:\n",
    "            self.value = value\n",
    "        \n",
    "    def add(self, value):\n",
    "        \n",
    "        if type_judge(self.value) and type_judge(value):\n",
    "            self.value += value\n",
    "        else:\n",
    "            self.value = \"can not be calculated because one of the values is not a number\"\n",
    "        \n",
    "    def sub(self, value):\n",
    "        \n",
    "        if type_judge(self.value) and type_judge(value):\n",
    "            self.value -= value\n",
    "        else:\n",
    "            self.value = \"can not be calculated because one of the values is not a number\"\n",
    "            \n",
    "    def mult(self, value):\n",
    "        \n",
    "        if type_judge(self.value) and type_judge(value):\n",
    "            self.value *= value\n",
    "        else:\n",
    "            self.value = \"can not be calculated because one of the values is not a number\"\n",
    "    \n",
    "    def div(self, value):\n",
    "        \n",
    "        if type_judge(self.value) and type_judge(value):\n",
    "            self.value /= value\n",
    "        else:\n",
    "            self.value = \"can not be calculated because one of the values is not a number\"\n",
    "        \n",
    "example = ArthClass(5)\n",
    "print(\"value : {}\".format(example.value))\n",
    "example.add(3)\n",
    "print(\"addition value : {}\".format(example.value))\n",
    "\n",
    "example2 = ArthClass(\"k\")\n",
    "example2.sub(3)\n",
    "print(\"subtraction value : {}\".format(example2.value))\n",
    "\n",
    "example.mult(3)\n",
    "print(\"multiplication value : {}\".format(example.value))\n",
    "example.div(\"k\")\n",
    "print(\"division value : {}\".format(example.value))"
   ]
  }
 ]
}